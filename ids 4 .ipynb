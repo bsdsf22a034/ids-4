{
  "metadata": {
    "kernelspec": {
      "name": "python",
      "display_name": "Python (Pyodide)",
      "language": "python"
    },
    "language_info": {
      "codemirror_mode": {
        "name": "python",
        "version": 3
      },
      "file_extension": ".py",
      "mimetype": "text/x-python",
      "name": "python",
      "nbconvert_exporter": "python",
      "pygments_lexer": "ipython3",
      "version": "3.8"
    }
  },
  "nbformat_minor": 4,
  "nbformat": 4,
  "cells": [
    {
      "cell_type": "code",
      "source": "import numpy as np\n\n# Generate temperature data (Celsius) and humidity data for 500 locations over 365 days\ntemperature_data = np.random.uniform(-10, 40, (500, 365))\nhumidity_data = np.random.uniform(0, 100, (500, 365))\n",
      "metadata": {
        "trusted": true
      },
      "outputs": [],
      "execution_count": 10
    },
    {
      "cell_type": "code",
      "source": "# Simulate 5% missing data\nnum_missing = int(0.05 * temperature_data.size)\ntemperature_data.ravel()[np.random.choice(temperature_data.size, num_missing, replace=False)] = np.nan\nhumidity_data.ravel()[np.random.choice(humidity_data.size, num_missing, replace=False)] = np.nan\n\n# Count missing values\ntemp_missing_count = np.isnan(temperature_data).sum()\nhumidity_missing_count = np.isnan(humidity_data).sum()\nprint(f\"Missing temperature data: {temp_missing_count}, Missing humidity data: {humidity_missing_count}\")\n",
      "metadata": {
        "trusted": true
      },
      "outputs": [
        {
          "name": "stdout",
          "text": "Missing temperature data: 9125, Missing humidity data: 9125\n",
          "output_type": "stream"
        }
      ],
      "execution_count": 2
    },
    {
      "cell_type": "code",
      "source": "# Convert temperature to Fahrenheit\ntemperature_data_fahrenheit = temperature_data * 9/5 + 32\n\n# Calculate \"feels like\" discomfort index\ndiscomfort_index = 0.72 * (temperature_data_fahrenheit + 95 * (humidity_data / 100)) + 40.6\ndiscomfort_index[discomfort_index > 80] = 80\n",
      "metadata": {
        "trusted": true
      },
      "outputs": [],
      "execution_count": 3
    },
    {
      "cell_type": "code",
      "source": "# Extract January data (first 31 days) and calculate average temperature across locations\njanuary_temps = temperature_data[:, :31]\njanuary_avg_temp = np.nanmean(january_temps)\nprint(f\"Average January temperature: {january_avg_temp:.2f} °C\")\n",
      "metadata": {
        "trusted": true
      },
      "outputs": [
        {
          "name": "stdout",
          "text": "Average January temperature: 15.08 °C\n",
          "output_type": "stream"
        }
      ],
      "execution_count": 4
    },
    {
      "cell_type": "code",
      "source": "# Mark temperatures exceeding 35°C as null\ntemperature_data[temperature_data > 35] = np.nan\n\n# Count the number of null values per location\nnull_count_per_location = np.isnan(temperature_data).sum(axis=1)\nprint(\"Null values per location after marking extreme temperatures:\", null_count_per_location)\n",
      "metadata": {
        "trusted": true
      },
      "outputs": [
        {
          "name": "stdout",
          "text": "Null values per location after marking extreme temperatures: [47 44 50 60 51 45 56 57 50 45 46 51 53 43 60 51 49 45 59 50 57 47 55 53\n 61 56 40 50 42 57 50 56 59 48 62 47 53 62 53 56 56 59 55 45 56 53 54 49\n 59 56 47 50 46 48 51 43 56 74 64 47 62 61 51 51 60 46 55 56 46 61 54 52\n 55 47 49 52 50 43 57 46 62 61 52 52 52 51 62 59 54 51 64 50 37 54 57 72\n 51 62 61 60 59 55 51 45 53 51 56 58 59 59 56 54 55 60 64 44 61 57 46 51\n 51 53 50 62 46 42 51 53 48 45 46 51 56 47 46 48 56 45 48 46 63 50 55 54\n 57 48 50 64 42 51 47 54 55 56 52 49 46 70 45 58 71 50 50 60 54 58 51 55\n 51 61 53 50 45 58 45 53 54 44 59 53 55 53 56 51 58 39 58 39 48 50 61 47\n 52 50 51 55 51 48 54 43 50 46 44 60 52 57 57 58 59 44 56 49 63 45 48 59\n 58 47 42 64 57 54 57 55 54 46 48 45 38 46 46 42 53 57 48 54 44 62 52 59\n 49 46 56 51 55 45 57 49 51 55 50 35 59 52 61 60 40 64 49 62 49 56 56 60\n 60 51 47 45 52 48 57 53 55 48 50 41 57 64 64 62 49 52 52 44 46 39 53 52\n 53 52 65 37 54 54 60 68 68 49 46 61 64 53 50 50 48 45 53 65 52 57 66 56\n 49 56 59 57 46 48 67 50 58 53 59 57 43 55 63 60 46 63 47 52 50 41 49 56\n 52 49 45 41 48 56 61 65 53 47 53 61 52 54 60 58 53 55 40 58 48 59 66 46\n 68 62 53 54 44 48 45 51 50 51 44 68 49 55 49 51 51 48 51 49 52 56 57 61\n 48 64 51 61 66 54 52 58 60 62 57 63 53 52 49 64 66 42 39 52 48 48 64 49\n 50 44 50 50 40 46 64 54 59 63 54 58 41 51 49 51 49 60 48 57 55 64 52 44\n 52 59 57 49 33 55 49 54 45 48 62 53 57 59 48 46 51 54 40 51 47 45 42 59\n 46 55 59 51 62 56 56 45 53 40 48 46 51 55 61 44 54 47 62 56 54 48 61 48\n 60 54 52 45 50 44 51 54 48 48 53 52 63 45 56 57 54 49 54 47]\n",
          "output_type": "stream"
        }
      ],
      "execution_count": 5
    },
    {
      "cell_type": "code",
      "source": "# Split temperature_data into quarters manually\nq1 = temperature_data[:, :90]      # First 90 days\nq2 = temperature_data[:, 90:181]   # Next 91 days\nq3 = temperature_data[:, 181:273]  # Next 92 days\nq4 = temperature_data[:, 273:]     # Last 92 days\n\n# Calculate the average temperature for each quarter\nq1_avg = np.nanmean(q1, axis=1)\nq2_avg = np.nanmean(q2, axis=1)\nq3_avg = np.nanmean(q3, axis=1)\nq4_avg = np.nanmean(q4, axis=1)\n\n# Combine the quarterly averages into an array for each location\nquarterly_averages = np.vstack((q1_avg, q2_avg, q3_avg, q4_avg)).T\nprint(\"Quarterly temperature averages:\", quarterly_averages)\n",
      "metadata": {
        "trusted": true
      },
      "outputs": [
        {
          "name": "stdout",
          "text": "Quarterly temperature averages: [[11.52827513 14.5668776  13.82253218 12.55296073]\n [12.45376924 12.58995502 10.88238869 12.32447205]\n [10.71611707 13.81226372 12.46435115 13.98294177]\n ...\n [11.06900537 12.82374481 10.80016636 11.98477833]\n [13.93028017  9.0122533   9.40092858 13.02190556]\n [10.92782154 12.52489872 10.39702189 13.26546154]]\n",
          "output_type": "stream"
        }
      ],
      "execution_count": 9
    },
    {
      "cell_type": "code",
      "source": "# Classify each day's humidity level\ndry_days = (humidity_data < 30).sum(axis=1)\nhumid_days = (humidity_data > 70).sum(axis=1)\nprint(\"Total 'Dry' and 'Humid' days per location:\", dry_days, humid_days)\n",
      "metadata": {
        "trusted": true
      },
      "outputs": [
        {
          "name": "stdout",
          "text": "Total 'Dry' and 'Humid' days per location: [ 96 108 107 100 109 108 104 109 105 107  97 101 106  86 113 108  83 113\n 108  95 103 108 102 112 107 124 109 100 121  99 112 112 104 100 117  96\n 102  94 122  94 112 111 101 100  91 103 109 108  97 103  97 114  89 106\n 104 112 112 117 104 103 104  97 102 109  97  92  95 107 102 105 107 100\n  97 102 100 101 117 102 105  96 109  98 100  83 101 108 111 111 113  87\n 100 119 105 110 110 108 110  96  91 101 120  94 122  98  91 110 111 103\n 103 114 105  96  93 109  99  80  93  93  98  96 111 110 104 108 110 108\n 120 103 106 114 108  98  97  94  99 101  95 103 101 109 102 107 115 105\n 105  90 102 105 110 103  97 114 109 102  97  94 101 110  93 126  98 109\n  92 119 109 112 100  97 102 107 107 115 112 107  95 100 104 114 108 109\n 100 102  97 103 103 108  85 104  98 109 120 106 110 105 104 106 108  96\n 115  98 114 104 111 106 100  98 108 107 116 105 107 114  92  98 109 101\n 110 107 112 113 103  97  97 123 101 103 105 109 109 103  99 107 111 108\n 110  90 113 105 104 110 113 107  92  92  97  94  98 102  92 114 117  98\n  84  97 101 112 108 112 104  98  95 100 114  92 106  96 107  94 107 119\n  85 102 114 116  99  86 111  98  98 108 100 114 110 105 110 112  94  97\n 106 110 103  90  96 102 109  96 105 115 111 132  94  95 115 117 113  95\n 108 109 116  90 108 109  95 109  97  99  97 107  88 105 110 117 112 101\n 111 104  97 112  98 104 105  90 107 111  82 113 100 112  94 101 119 103\n 107 101 114 107 111 106  97 105 107 102 101 104  95 107 112 120  97 106\n 120 115 110 101  89  85 102  92  95  99 112 108 106  99 101  93 101 111\n  97  99 114  93  97  94 110 106  95 100 102 111 121  96 106  98 122  98\n  99 105 102  98 109 101  98 104 105 106 109  96 117  91  95  98 100 109\n 106 106 102 110 104 107 102 105 101  89 102 109  95 110  91 103 114 100\n 119 103 106 101  84  99 101  96 107 105 101  98 103 100 110 100 120  91\n 111 104  96 106  93 103 112  92 111 112 101 110 100 108 109 105 112 105\n  99  99 110 107 111 100 109  90  91  95  98 117 106  83 111  96 114 104\n  97  95 112 102 111  99 105  85  87  98 109  97 110  95] [ 97 106 116 103 100 108 100 102  88 128 104 106 108 124  96 105 120 100\n  95 102 106  93 100 103  98  88  98 115 102 102 104  91 107 109 100 112\n 117 112 110 107  89 101 107 118 117  97 108  99  91 111 108  97 107 105\n 103 113 104 106 103 103 111 110 119 100  93 100  97  93 103 107 106 111\n 108 102  96 102 107 109 104 105 104 104 101 114 114  81  91  95  90  95\n  98  99  89  98  98 108  98 114 109 101  85 115  95 111  99 100  99 107\n 105  89 107  99 120 105 100 121 105 103  97 105 104  96 108 107 112  84\n  97 116 109 120  89 107 104 105 115 102 112 103 105 104 100 113  87  92\n 101 106 105  90 100 111 101 104  98 112 105  95 120  91 110  90 109 111\n 107 104  93  98 105 103 104 113  99 101 110 100 112 100  98 105 106  90\n 106 103 113 101  98  99  98 107  98  96  94 107 101 101 103 109  94 109\n  99 116  97 105 110  95 111 109  95 102  90 116 108  99 108 109 105 103\n  94  98  93 108 108 114 100  89  94  94 101 105  99 119  99 107  98 106\n 102  97 101  91  99 100  92 112 110 110  85 119 109 106 117  97 106 107\n 112 115 105  88  88  94 104 104 102 108 103 100  97  95 108 119 118  97\n 107  99 103  91 112 111 107 107 107 113 108  96 102 115 105 111 131 115\n 105 115  99 115 104 112 110 111 106 110 112  94 111 114  95 100  82 109\n 110  99 104 126 107 103 114  94 113  96 112 119 118  96  96 100 105  99\n  96 100  88  94 106 112 106 104  98  96 126 106 110 103 107  93  87 109\n 121  92  97 102 109  96 110 123  88 103 101  93 102 102 100  99  94 109\n  94 104 100 122 101 112 105 114 120  98 111  92 108 103  96 102  91  86\n 119 108  77 124  94 100 105 103  91  92 115 108  98 110 106 109  96  96\n 113 107 118 112  98 101 109  91 101  95  94 105  95 113  95  97 108  97\n 107  99 108  93 117 114 118 107 114 109 109 112 112  97 116  88  97 103\n  97 103 105 115 110 111 107 113 100 102 117 119  95 105  81  99  90 119\n 107 104 116 114 116 101 108  93  93 101 109  94 106 103 118 103 108 116\n  98 111 103 109 101  97  94 104 104 108 100 106  89 117  98 107  96 100\n 113 110  94 100  95 102  99  99 120 104 106 103 100 107]\n",
          "output_type": "stream"
        }
      ],
      "execution_count": 7
    },
    {
      "cell_type": "code",
      "source": "# Simulate a pressure trend across 365 days and adjust temperatures\ndaily_pressure_trend = np.sin(np.linspace(0, 2 * np.pi, 365)) * 5  # Example pressure variation\ntemperature_data_adjusted = temperature_data + daily_pressure_trend\n",
      "metadata": {
        "trusted": true
      },
      "outputs": [],
      "execution_count": 8
    },
    {
      "cell_type": "code",
      "source": "",
      "metadata": {
        "trusted": true
      },
      "outputs": [],
      "execution_count": null
    }
  ]
}